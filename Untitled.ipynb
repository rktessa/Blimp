{
 "cells": [
  {
   "cell_type": "code",
   "execution_count": 11,
   "metadata": {},
   "outputs": [
    {
     "ename": "ValueError",
     "evalue": "all input arrays must have the same shape",
     "output_type": "error",
     "traceback": [
      "\u001b[1;31m---------------------------------------------------------------------------\u001b[0m",
      "\u001b[1;31mValueError\u001b[0m                                Traceback (most recent call last)",
      "Cell \u001b[1;32mIn[11], line 7\u001b[0m\n\u001b[0;32m      4\u001b[0m y \u001b[39m=\u001b[39m np\u001b[39m.\u001b[39marray([\u001b[39m4\u001b[39m,\u001b[39m5\u001b[39m, \u001b[39m6\u001b[39m])\n\u001b[0;32m      6\u001b[0m pippo \u001b[39m=\u001b[39m np\u001b[39m.\u001b[39mstack((x,x))\n\u001b[1;32m----> 7\u001b[0m pippo \u001b[39m=\u001b[39m np\u001b[39m.\u001b[39;49mstack((pippo,y))\n\u001b[0;32m      8\u001b[0m \u001b[39mprint\u001b[39m(pippo)\n\u001b[0;32m      9\u001b[0m \u001b[39mprint\u001b[39m(pippo[:,\u001b[39m0\u001b[39m]) \u001b[39m#tutta la prima colonna chiamo così\u001b[39;00m\n",
      "File \u001b[1;32m<__array_function__ internals>:180\u001b[0m, in \u001b[0;36mstack\u001b[1;34m(*args, **kwargs)\u001b[0m\n",
      "File \u001b[1;32mc:\\Volume_D\\Programming\\Blimp_git\\.env\\lib\\site-packages\\numpy\\core\\shape_base.py:426\u001b[0m, in \u001b[0;36mstack\u001b[1;34m(arrays, axis, out)\u001b[0m\n\u001b[0;32m    424\u001b[0m shapes \u001b[39m=\u001b[39m {arr\u001b[39m.\u001b[39mshape \u001b[39mfor\u001b[39;00m arr \u001b[39min\u001b[39;00m arrays}\n\u001b[0;32m    425\u001b[0m \u001b[39mif\u001b[39;00m \u001b[39mlen\u001b[39m(shapes) \u001b[39m!=\u001b[39m \u001b[39m1\u001b[39m:\n\u001b[1;32m--> 426\u001b[0m     \u001b[39mraise\u001b[39;00m \u001b[39mValueError\u001b[39;00m(\u001b[39m'\u001b[39m\u001b[39mall input arrays must have the same shape\u001b[39m\u001b[39m'\u001b[39m)\n\u001b[0;32m    428\u001b[0m result_ndim \u001b[39m=\u001b[39m arrays[\u001b[39m0\u001b[39m]\u001b[39m.\u001b[39mndim \u001b[39m+\u001b[39m \u001b[39m1\u001b[39m\n\u001b[0;32m    429\u001b[0m axis \u001b[39m=\u001b[39m normalize_axis_index(axis, result_ndim)\n",
      "\u001b[1;31mValueError\u001b[0m: all input arrays must have the same shape"
     ]
    }
   ],
   "source": [
    "import numpy as np\n",
    "\n",
    "x = np.array([1,2,3])\n",
    "y = np.array([4,5, 6])\n",
    "\n",
    "pippo = np.stack((x,x))\n",
    "\n",
    "print(pippo)\n",
    "print(pippo[:,0]) #tutta la prima colonna chiamo così\n"
   ]
  },
  {
   "cell_type": "code",
   "execution_count": null,
   "id": "436d7511",
   "metadata": {},
   "outputs": [],
   "source": [
    "import numpy as np\n",
    "import math\n",
    "\n",
    "dist_target = np.array([1.0, 1.0]) #array of coordinates x,y  m\n",
    "pos_x = 0.\n",
    "pos_y = 0.\n",
    "\n",
    "dist = math.sqrt((pos_x-dist_target[0])**2 + (pos_y - dist_target[1])**2)\n",
    "dist"
   ]
  },
  {
   "cell_type": "code",
   "execution_count": null,
   "id": "509f3b71",
   "metadata": {},
   "outputs": [],
   "source": [
    "import numpy as np\n",
    "traj = np.array([[0, 0, 1],\n",
    "                 [1, 1, 1],\n",
    "                 [2, 2, 2]])\n",
    "\n",
    "print(traj[0][2])"
   ]
  },
  {
   "cell_type": "code",
   "execution_count": null,
   "id": "78bdf60e",
   "metadata": {},
   "outputs": [],
   "source": [
    "import numpy as np\n",
    "import matplotlib.pyplot as plt\n",
    "\n",
    "x = np.array([0., 0.5, 1., 1.5, 2., 2.5, 3., 3.5, 4., 4.5, 5., 5.5, 6., 6.5, 7., 7.5, 8.  ])\n",
    "z = np.random.normal(0, 0.1, size=(len(x)))\n",
    "z_2 = np.random.normal(0, 0.5, size=(len(x)))\n",
    "x = x + z\n",
    "y = -2*x + 3 + z_2\n",
    "\n",
    "print('x = ', len(x))\n",
    "\n",
    "# Ora usando i dati creati vado a fare una LLS estimation\n",
    "\n",
    "# y = a +b*x\n",
    "a = (np.sum(y) * np.sum(x**2)- np.sum(x)*np.sum(x*y))/ (len(x)*np.sum(x**2) - np.sum(x)**2)\n",
    "b = ( len(x)* np.sum(x*y) - np.sum(x)*np.sum(y)) /(len(x)*np.sum(x**2)- np.sum(x)**2) \n",
    "\n",
    "y_fit = a + b*x\n",
    "\n",
    "\n",
    "\n",
    "\n",
    "# Plot di tutto :)\n",
    "fig, ax = plt.subplots()\n",
    "\n",
    "ax.scatter(x,y)\n",
    "ax.plot(x, y_fit, 'r')\n",
    "ax.set(xlabel='x (m)', ylabel='y (m)',\n",
    "       title='Linear Least Square estimation ')\n",
    "ax.grid()\n",
    "\n",
    "plt.show()"
   ]
  },
  {
   "cell_type": "code",
   "execution_count": null,
   "id": "439a8b5f",
   "metadata": {},
   "outputs": [],
   "source": [
    "import math\n",
    "# Error and Covariance calculation\n",
    "# Because of estimation the variance of the residual \n",
    "# is defined using n-2 dofs\n",
    "E_i = np.sum((y - y_fit)**2)\n",
    "Serr = math.sqrt(E_i/(len(x)-2))\n",
    "print(\"Standard Error = \", Serr)"
   ]
  },
  {
   "cell_type": "code",
   "execution_count": null,
   "id": "50911b0a",
   "metadata": {},
   "outputs": [],
   "source": [
    "# Inclination of the line calculated.\n",
    "# m coefficient is b\n",
    "ang_rad = np.arctan(b)\n",
    "ang_deg = ang_rad * 180/np.pi\n",
    "\n",
    "if ang_deg < 0:  #Ho dei dubbi che questo faccia solo danni nel pid \n",
    "    ang_deg += 360\n",
    "\n",
    "print(\"angolo inclinazione = \", ang_deg)"
   ]
  },
  {
   "cell_type": "code",
   "execution_count": null,
   "id": "dd9115ff",
   "metadata": {},
   "outputs": [],
   "source": [
    "pos = x,y\n",
    "print(pos)"
   ]
  },
  {
   "cell_type": "code",
   "execution_count": null,
   "id": "c63854bd",
   "metadata": {},
   "outputs": [],
   "source": [
    "xx = pos[0][:]\n",
    "\n",
    "print(xx)"
   ]
  },
  {
   "cell_type": "code",
   "execution_count": null,
   "id": "dbbe68bb",
   "metadata": {},
   "outputs": [],
   "source": [
    "thisdict =\t{\n",
    "  \"brand\": \"Ford\",\n",
    "  \"model\": \"Mustang\",\n",
    "  \"year\": 1964\n",
    "}\n",
    "print(thisdict[\"brand\"])"
   ]
  },
  {
   "cell_type": "code",
   "execution_count": null,
   "id": "515d4f0a",
   "metadata": {},
   "outputs": [],
   "source": [
    "thisdict =\t{\n",
    "  \"brand\": \"Ford\",\n",
    "  \"model\": \"Mustang\",\n",
    "  \"year\": 1964,\n",
    "  \"year\": 2020\n",
    "}\n",
    "print(thisdict) "
   ]
  },
  {
   "cell_type": "code",
   "execution_count": null,
   "id": "472e076a",
   "metadata": {},
   "outputs": [],
   "source": [
    "start = (1,2) #posizione\n",
    "h = {}\n",
    "h[start] = 0  #distanza\n",
    "print(h)"
   ]
  },
  {
   "cell_type": "code",
   "execution_count": null,
   "id": "6d3f1d44",
   "metadata": {},
   "outputs": [],
   "source": [
    "import numpy as  np\n",
    "import cv2 \n",
    "img = cv2.flip(cv2.imread('C:\\Volume_D\\Programming\\Blimp_git\\Blimp\\povo2_provaPathPlanning.png'), 0)\n",
    "#img = cv2.flip(cv2.imread(\"C:\\Volume_D\\Programming\\Blimp_git\\Blimp\\kirby_work.png\"), 0)\n",
    "#img = cv2.flip(cv2.imread(\"C:\\Volume_D\\Programming\\Path Planning Codes\\Robotic-Navigation\\lab2\\program\\Maps\\map2.png\"), 0)\n",
    "img[img > 128] = 255\n",
    "img[img <= 128] = 0"
   ]
  },
  {
   "cell_type": "code",
   "execution_count": null,
   "id": "8d7700bb",
   "metadata": {},
   "outputs": [],
   "source": [
    "#Saving the output in a txt file. \n",
    "with open(\"example.txt\", \"w\") as f:\n",
    "    f.write(np.array_str(img)) # inside conversion of array into string\n"
   ]
  },
  {
   "cell_type": "code",
   "execution_count": null,
   "id": "188c2a41",
   "metadata": {},
   "outputs": [],
   "source": [
    "m = np.asarray(img) # convert into numpy array the input\n",
    "m = cv2.cvtColor(m, cv2.COLOR_BGR2GRAY) \n",
    "m = m.astype(float) / 255. # copy of the array m cast an float\n",
    "m = 1-cv2.dilate(1-m, np.ones((20, 20)))\n",
    "img = img.astype(float)/255.\n",
    "\n",
    "start = (200, 50)\n",
    "goal = (80, 450)\n",
    "\n",
    "cv2.circle(img, (start[0], start[1]), 5, (0, 0, 1), 3)\n",
    "cv2.circle(img, (goal[0], goal[1]), 5, (0, 1, 0), 3)\n"
   ]
  },
  {
   "cell_type": "code",
   "execution_count": null,
   "id": "f4a10b49",
   "metadata": {},
   "outputs": [],
   "source": [
    "'''import cv2\n",
    "  \n",
    "image = cv2.imread('C:\\Volume_D\\Programming\\Blimp_git\\Blimp\\kirby_work.png')\n",
    "gray = cv2.cvtColor(image, cv2.COLOR_BGR2GRAY)\n",
    "  \n",
    "cv2.imshow('Original image',image)\n",
    "cv2.imshow('Gray image', gray)\n",
    "  \n",
    "cv2.waitKey(0)\n",
    "cv2.destroyAllWindows()'''"
   ]
  },
  {
   "cell_type": "code",
   "execution_count": null,
   "id": "bd225284",
   "metadata": {},
   "outputs": [],
   "source": [
    "img_ = cv2.flip(img, 0)\n",
    "cv2.imshow(\"A* Test\", img_)\n",
    "cv2.waitKey(0)\n",
    "cv2.destroyAllWindows()"
   ]
  },
  {
   "cell_type": "code",
   "execution_count": null,
   "id": "b4f962f6",
   "metadata": {},
   "outputs": [],
   "source": [
    "import numpy as np\n",
    "import math\n",
    "a = (0,0)\n",
    "b = (1,1)\n",
    "def distance(a, b):\n",
    "        # Diagonal distance \n",
    "        dMax = np.max([np.abs(a[0]-b[0]), np.abs(a[1]-b[1])])\n",
    "        dMin = np.min([np.abs(a[0]-b[0]), np.abs(a[1]-b[1])])\n",
    "        d = math.sqrt(2.) * dMin + (dMax - dMin)\n",
    "        return d\n",
    "\n",
    "pippo = distance(a,b)\n",
    "print(\"distanza tra due punti =\", pippo)"
   ]
  },
  {
   "cell_type": "code",
   "execution_count": null,
   "id": "caa224c4",
   "metadata": {},
   "outputs": [],
   "source": [
    "import operator\n",
    "d = {'p': 2, 3: 4, 4: 3, 2: 1, 0: 0}\n",
    "print('Original dictionary : ',d)\n",
    "sorted_d = sorted(d.items(), key=operator.itemgetter(1))\n",
    "print('Dictionary in ascending order by value : ',sorted_d)\n",
    "sorted_d = dict( sorted(d.items(), key=operator.itemgetter(1),reverse=True))\n",
    "print('Dictionary in descending order by value : ',sorted_d)\n"
   ]
  },
  {
   "cell_type": "code",
   "execution_count": null,
   "id": "b98dec70",
   "metadata": {},
   "outputs": [],
   "source": [
    "import numpy as np\n",
    "positions = []\n",
    "i = 0\n",
    "while i < 5: \n",
    "    positions = np.append(positions, [0,1])\n",
    "    i +=1\n",
    "\n",
    "print(positions)\n",
    "print(len(positions))\n",
    "print(np.sum(positions**2))"
   ]
  },
  {
   "cell_type": "code",
   "execution_count": null,
   "id": "8a83b07f",
   "metadata": {},
   "outputs": [],
   "source": [
    "import numpy as np\n",
    "\n",
    "A_n1 = np.array([0.00, 7.19, 2.15])\n",
    "A_n2 = np.array([0.00, 3.62, 3.15])\n",
    "A_n3 = np.array([0.00, 0.00, 2.15])\n",
    "A_n4 = np.array([4.79, 1.85, 3.15])\n",
    "A_n5 = np.array([4.79, 5.45, 2.15])\n",
    "A_n6 = np.array([3.00, 9.35, 3.15])\n",
    "\n",
    "A_n = A_n1, A_n2, A_n3, A_n4, A_n5, A_n6\n",
    "\n",
    "n = len(A_n)\n",
    "\n",
    "#sum = np.sum((A_n[:][1:n].T)**2, 2)\n",
    "#print (\"Sum = \", sum)\n",
    "print(A_n)\n",
    "print(\"AN =\", np.square(A_n[:][1:n]))"
   ]
  },
  {
   "cell_type": "code",
   "execution_count": null,
   "id": "9c5b3223",
   "metadata": {},
   "outputs": [],
   "source": [
    "import numpy as np\n",
    "\n",
    "a = np.array([1, 2, 3, 4, 5, 6, 7, 8, 9])\n",
    "index = [0]\n",
    "\n",
    "new_a = np.delete(a, index)\n",
    "\n",
    "print(new_a)"
   ]
  },
  {
   "cell_type": "code",
   "execution_count": null,
   "id": "36d4a2eb",
   "metadata": {},
   "outputs": [],
   "source": [
    "import numpy as np\n",
    "\n",
    "a = np.array((0, 0, 0))\n",
    "b = np.array((1,1,1))\n",
    "\n",
    "c = np.array((a, b))\n",
    "\n",
    "\n",
    "print(c)"
   ]
  },
  {
   "cell_type": "code",
   "execution_count": null,
   "id": "e2c8fc9c",
   "metadata": {},
   "outputs": [],
   "source": [
    "import json\n",
    "\n",
    "\n",
    "data = json.loads('Blimp\\tempi.json')"
   ]
  },
  {
   "cell_type": "code",
   "execution_count": null,
   "id": "f93c4453",
   "metadata": {},
   "outputs": [],
   "source": [
    "import numpy as np\n",
    "\n",
    "a = np.array([[1., 1., 1.], [0.2, 0.2, 0.2]])\n",
    "\n",
    "b = a[0,:]/a[1,:]\n",
    "print(b)"
   ]
  },
  {
   "cell_type": "code",
   "execution_count": null,
   "id": "a09635fb",
   "metadata": {},
   "outputs": [],
   "source": [
    "A_n1 = [0.00, 7.19, 2.15]\n",
    "A_n2 = [0.00, 3.62, 3.15]\n",
    "A_n3 = [0.00, 0.00, 2.15]\n",
    "A_n4 = [4.79, 1.85, 3.15]\n",
    "A_n5 = [4.79, 5.45, 2.15]\n",
    "A_n6 = [3.00, 9.35, 3.15]\n",
    "\n",
    "A_n = np.transpose(np.array((A_n6, A_n1, A_n2, A_n3, A_n4, A_n5)))\n",
    "\n",
    "print(A_n)"
   ]
  },
  {
   "cell_type": "code",
   "execution_count": null,
   "id": "de8f074a",
   "metadata": {},
   "outputs": [],
   "source": [
    "from blimp_class import TDoA, TDoA_dt, reject_outliers #, kalman_blimp\n",
    "import numpy as np\n",
    "tempi_dt = np.array(())\n",
    "\n",
    "tempi_dt = np.zeros((6,1))\n",
    "\n",
    "\n",
    "dt = np.transpose(np.array([2, 1, 1, 1, 1, 1 ]))\n",
    "tempi_dt[:,0] = dt\n",
    "\n",
    "#print(tempi_dt)\n",
    "\n",
    "due = np.append(tempi_dt,tempi_dt*2, axis=1)\n",
    "\n",
    "cavolo = np.zeros((6,1))\n",
    "#d = np.abs(due - np.median(due))\n",
    "for i in range(len(due)) :\n",
    "    \n",
    "    cavolo[i] = np.mean(reject_outliers(due[i,:], m=2))\n",
    "\n",
    "print(cavolo)\n",
    "\n",
    "\n",
    "\n",
    "\n",
    "pippo = np.reshape(np.array([0,1,2,3]), (4,1))\n",
    "print(pippo)"
   ]
  },
  {
   "cell_type": "code",
   "execution_count": 38,
   "id": "b6102b91",
   "metadata": {},
   "outputs": [
    {
     "name": "stdout",
     "output_type": "stream",
     "text": [
      "MSE =  0.15062064912327164\n",
      "Pendenza = -61.91568597011087\n"
     ]
    },
    {
     "data": {
      "image/png": "[encoded data removed]",
      "text/plain": [
       "<Figure size 640x480 with 1 Axes>"
      ]
     },
     "metadata": {},
     "output_type": "display_data"
    }
   ],
   "source": [
    "\n",
    "#######################################################################################\n",
    "# PROVA DEL CODICE PER STIMARE LA DIREZIONE DEL BLIMP NEL SISTEMA DI RIFERIMENTO ASSOLUTO\n",
    "#######################################################################################\n",
    "\n",
    "\n",
    "import numpy as np \n",
    "from matplotlib import pyplot as plt\n",
    "\n",
    "def reject_outliers(data, m = 2):\n",
    "    d = np.abs(data - np.median(data))\n",
    "    #print(\"d = \",d)\n",
    "    mdev = np.median(d)\n",
    "    #print(\"mdev =\", mdev)\n",
    "    s = d/mdev if mdev else np.zero(len(d))\n",
    "    #print(\"s =\", s)\n",
    "\n",
    "    pos = []\n",
    "    for i in range(len(s)):\n",
    "        if s[i] > m:\n",
    "            pos.append(i)\n",
    "\n",
    "    return data[s<m], pos \n",
    "\n",
    "\n",
    "\n",
    "# Reading the data from the txt file\n",
    "data = np.loadtxt('C:\\Volume_D\\Programming\\Blimp_git\\data_UWB7.txt',delimiter=',') #input \n",
    "\n",
    "#Filtering the data, rejecting the Outliers\n",
    "\n",
    "\n",
    "\n",
    "\n",
    "x_cord = np.empty((1,0))\n",
    "y_cord = np.empty((1,0))\n",
    "z_cord = np.empty((1,0))\n",
    "yaw_mad = np.empty((1,0))\n",
    "xy_norm= np.empty((1,0))\n",
    "\n",
    "\n",
    "for i in range(len(data)):\n",
    "\n",
    "    x_cord = np.append(x_cord, data[i,0])\n",
    "    y_cord = np.append(y_cord, data[i,1])\n",
    "    z_cord = np.append(z_cord, data[i,2])\n",
    "    yaw_mad = np.append(yaw_mad, data[i,3])\n",
    "    # Computation of the norm of x and y :\n",
    "    xy_norm = np.append(xy_norm, np.linalg.norm((data[i,0], data[i,1])))\n",
    "\n",
    "\n",
    "# Reject Outliers\n",
    "xy_no_outliers, indexes = reject_outliers(xy_norm, m = 500)\n",
    "# Per cancellare sovrascrivi vecchio array con questo comando delete: \n",
    "x_cord = np.delete(x_cord, indexes)\n",
    "y_cord = np.delete(y_cord, indexes)\n",
    "\n",
    "\n",
    "# Estimation Alghorithm\n",
    "# Ora usando i dati creati vado a fare una LLS estimation\n",
    "# y = a +b*x\n",
    "a = (np.sum(y_cord) * np.sum(x_cord**2)- np.sum(x_cord)*np.sum(x_cord*y_cord))/ (len(x_cord)*np.sum(x_cord**2) - np.sum(x_cord)**2)\n",
    "b = ( len(x_cord)* np.sum(x_cord*y_cord) - np.sum(x_cord)*np.sum(y_cord)) /(len(x_cord)*np.sum(x_cord**2)- np.sum(x_cord)**2) \n",
    "\n",
    "\n",
    "# Errore LLS\n",
    "# sqrt( [sum (Y_est - Y_mis)**2] / (n-2)\n",
    "\n",
    "Y_est = a + x_cord * b\n",
    "MSE = (np.square(Y_est - y_cord)).mean(axis=None)\n",
    "print(\"MSE = \", MSE)\n",
    "\n",
    "\n",
    "ang_rad = np.arctan(b)\n",
    "print(\"Pendenza =\", (ang_rad*180.0/np.pi))\n",
    "\n",
    "\n",
    "#Per il plot\n",
    "plt.scatter(x_cord,y_cord, label='UWB', color='k', s=25, marker=\"o\")\n",
    "plt.plot(x_cord,Y_est)\n",
    "plt.xlabel('x')\n",
    "plt.ylabel('y')\n",
    "plt.title('UWB and LLS')\n",
    "plt.legend()\n",
    "plt.show()\n",
    "\n"
   ]
  },
  {
   "cell_type": "code",
   "execution_count": 1,
   "id": "4db46305",
   "metadata": {},
   "outputs": [],
   "source": [
    "import numpy as np\n",
    "import time\n",
    "from blimp_class import TDoA, TDoA_dt, reject_outliers #, kalman_blimp\n",
    "\n",
    "with open('C:\\Volume_D\\Programming\\Blimp_git\\log2.txt') as f:\n",
    "    mesg = f.readlines()\n",
    "\n",
    "tempi_dt = np.zeros((1,6))\n",
    "x_cord = np.empty((1,0))\n",
    "y_cord = np.empty((1,0))\n",
    "z_cord = np.empty((1,0))\n",
    "\n",
    "\n",
    "ts = mesg[0].split(\" \")\n",
    "\n",
    "dt_uwb = TDoA_dt(ts)  # Calcola dt iniziale\n",
    "    #print(dt_uwb)\n",
    "tempi_dt[0,:] = dt_uwb\n",
    "\n",
    "\n",
    "for pippo in  range(1,  len(mesg)):\n",
    "    ts = mesg[pippo].split(\" \")\n",
    "\n",
    "    x_pos_uwb, y_pos_uwb, z_pos_uwb, dt_new = TDoA(ts, dt_uwb)\n",
    "    x_cord = np.append(x_cord, x_pos_uwb)\n",
    "    y_cord = np.append(y_cord, y_pos_uwb)\n",
    "    z_cord = np.append(z_cord, z_pos_uwb)\n",
    "\n",
    "\n",
    "    dt_new = np.reshape(dt_new, (1,6))\n",
    "    tempi_dt = np.append(tempi_dt,dt_new, axis=0)\n",
    "    for i in range(len(dt_new)) :\n",
    "        dt_uwb[i] = np.mean(reject_outliers(tempi_dt[:,i], m=5))\n",
    "    #dt_uwb = np.mean(reject_outliers(tempi_dt))\n",
    "    #dt_uwb = dt_new\n",
    "    #print(\"coordinate = \", [x_pos_uwb, y_pos_uwb, z_pos_uwb])\n"
   ]
  },
  {
   "cell_type": "code",
   "execution_count": 2,
   "id": "d8e50168",
   "metadata": {},
   "outputs": [
    {
     "name": "stdout",
     "output_type": "stream",
     "text": [
      "d =  [ 7.  2.  1.  0. 12.]\n",
      "mdev = 2.0\n",
      "s = [3.5 1.  0.5 0.  6. ]\n",
      "pos = [0, 4]\n",
      "new_a =  [1. 2. 3.]\n"
     ]
    }
   ],
   "source": [
    "import numpy as np\n",
    "\n",
    "data = np.array([10.0, 1.0, 2., 3., 15.0])\n",
    "\n",
    "def reject_outliers(data, m = 2.):\n",
    "    d = np.abs(data - np.median(data))\n",
    "    print(\"d = \",d)\n",
    "    mdev = np.median(d)\n",
    "    print(\"mdev =\", mdev)\n",
    "    s = d/mdev if mdev else np.zero(len(d))\n",
    "    print(\"s =\", s)\n",
    "\n",
    "    pos = []\n",
    "    for i in range(len(s)):\n",
    "        if s[i] > m:\n",
    "            pos.append(i)\n",
    "\n",
    "    return data[s<m], pos \n",
    "\n",
    "pippo, pos = reject_outliers(data)\n",
    "print(\"pos =\", pos)\n",
    "\n",
    "\n",
    "\n",
    "# Per cancellare sovrascrivi vecchio array con questo comando delete: \n",
    "new_a = np.delete(data, pos)\n",
    "\n",
    "print(\"new_a = \", new_a)\n",
    "\n"
   ]
  },
  {
   "cell_type": "code",
   "execution_count": 3,
   "id": "5a7b9c47",
   "metadata": {},
   "outputs": [
    {
     "name": "stdout",
     "output_type": "stream",
     "text": [
      "2.5\n",
      "4.0\n"
     ]
    }
   ],
   "source": [
    "el = np.array([10.0, 1.0, 2., 3.])\n",
    "\n",
    "el[0]\n",
    "\n",
    "n = np.median(el)\n",
    "print(n)\n",
    "\n",
    "print(np.mean(el))"
   ]
  },
  {
   "cell_type": "code",
   "execution_count": 4,
   "id": "f9873e38",
   "metadata": {},
   "outputs": [
    {
     "data": {
      "image/png": "[encoded data removed]",
      "text/plain": [
       "<Figure size 640x480 with 1 Axes>"
      ]
     },
     "metadata": {},
     "output_type": "display_data"
    },
    {
     "data": {
      "image/png": "[encoded data removed]",
      "text/plain": [
       "<Figure size 640x480 with 1 Axes>"
      ]
     },
     "metadata": {},
     "output_type": "display_data"
    },
    {
     "data": {
      "image/png": "[encoded data removed]",
      "text/plain": [
       "<Figure size 640x480 with 1 Axes>"
      ]
     },
     "metadata": {},
     "output_type": "display_data"
    },
    {
     "data": {
      "image/png": "[encoded data removed]",
      "text/plain": [
       "<Figure size 640x480 with 1 Axes>"
      ]
     },
     "metadata": {},
     "output_type": "display_data"
    },
    {
     "data": {
      "image/png": "[encoded data removed]",
      "text/plain": [
       "<Figure size 640x480 with 1 Axes>"
      ]
     },
     "metadata": {},
     "output_type": "display_data"
    }
   ],
   "source": [
    "import numpy as np\n",
    "from matplotlib import pyplot as plt\n",
    "\n",
    "def main():\n",
    "    plt.axis([-50,50,0,10000])\n",
    "    plt.ion()\n",
    "    plt.show()\n",
    "\n",
    "    x = np.arange(-50, 51)\n",
    "    for pow in range(1,5):   # plot x^1, x^2, ..., x^4\n",
    "        y = [Xi**pow for Xi in x]\n",
    "        plt.plot(x, y)\n",
    "        plt.draw()\n",
    "        plt.pause(0.001)\n",
    "        input(\"Press [enter] to continue.\")\n",
    "\n",
    "if __name__ == '__main__':\n",
    "    main()\n",
    "    "
   ]
  },
  {
   "cell_type": "code",
   "execution_count": 5,
   "id": "482aa078",
   "metadata": {},
   "outputs": [
    {
     "name": "stdout",
     "output_type": "stream",
     "text": [
      "466\n"
     ]
    }
   ],
   "source": [
    "pluto = \"4.660000121343432\"\n",
    "pippo = int(float(pluto)*100)\n",
    "print(pippo)\n"
   ]
  },
  {
   "cell_type": "code",
   "execution_count": 2,
   "id": "790e652b",
   "metadata": {},
   "outputs": [
    {
     "ename": "ValueError",
     "evalue": "'gtkagg' is not a valid value for backend; supported values are ['GTK3Agg', 'GTK3Cairo', 'GTK4Agg', 'GTK4Cairo', 'MacOSX', 'nbAgg', 'QtAgg', 'QtCairo', 'Qt5Agg', 'Qt5Cairo', 'TkAgg', 'TkCairo', 'WebAgg', 'WX', 'WXAgg', 'WXCairo', 'agg', 'cairo', 'pdf', 'pgf', 'ps', 'svg', 'template']",
     "output_type": "error",
     "traceback": [
      "\u001b[1;31m---------------------------------------------------------------------------\u001b[0m",
      "\u001b[1;31mValueError\u001b[0m                                Traceback (most recent call last)",
      "Cell \u001b[1;32mIn[2], line 6\u001b[0m\n\u001b[0;32m      4\u001b[0m \u001b[39mimport\u001b[39;00m \u001b[39mtime\u001b[39;00m\n\u001b[0;32m      5\u001b[0m \u001b[39mimport\u001b[39;00m \u001b[39mmatplotlib\u001b[39;00m\n\u001b[1;32m----> 6\u001b[0m matplotlib\u001b[39m.\u001b[39;49muse(\u001b[39m'\u001b[39;49m\u001b[39mGTKAgg\u001b[39;49m\u001b[39m'\u001b[39;49m)\n\u001b[0;32m      7\u001b[0m \u001b[39mfrom\u001b[39;00m \u001b[39mmatplotlib\u001b[39;00m \u001b[39mimport\u001b[39;00m pyplot \u001b[39mas\u001b[39;00m plt\n\u001b[0;32m     10\u001b[0m \u001b[39mdef\u001b[39;00m \u001b[39mrandomwalk\u001b[39m(dims\u001b[39m=\u001b[39m(\u001b[39m256\u001b[39m, \u001b[39m256\u001b[39m), n\u001b[39m=\u001b[39m\u001b[39m20\u001b[39m, sigma\u001b[39m=\u001b[39m\u001b[39m5\u001b[39m, alpha\u001b[39m=\u001b[39m\u001b[39m0.95\u001b[39m, seed\u001b[39m=\u001b[39m\u001b[39m1\u001b[39m):\n",
      "File \u001b[1;32mc:\\Volume_D\\Programming\\Blimp_git\\.env\\lib\\site-packages\\matplotlib\\__init__.py:1140\u001b[0m, in \u001b[0;36muse\u001b[1;34m(backend, force)\u001b[0m\n\u001b[0;32m   1105\u001b[0m \u001b[39mdef\u001b[39;00m \u001b[39muse\u001b[39m(backend, \u001b[39m*\u001b[39m, force\u001b[39m=\u001b[39m\u001b[39mTrue\u001b[39;00m):\n\u001b[0;32m   1106\u001b[0m     \u001b[39m\"\"\"\u001b[39;00m\n\u001b[0;32m   1107\u001b[0m \u001b[39m    Select the backend used for rendering and GUI integration.\u001b[39;00m\n\u001b[0;32m   1108\u001b[0m \n\u001b[1;32m   (...)\u001b[0m\n\u001b[0;32m   1138\u001b[0m \u001b[39m    matplotlib.get_backend\u001b[39;00m\n\u001b[0;32m   1139\u001b[0m \u001b[39m    \"\"\"\u001b[39;00m\n\u001b[1;32m-> 1140\u001b[0m     name \u001b[39m=\u001b[39m validate_backend(backend)\n\u001b[0;32m   1141\u001b[0m     \u001b[39m# don't (prematurely) resolve the \"auto\" backend setting\u001b[39;00m\n\u001b[0;32m   1142\u001b[0m     \u001b[39mif\u001b[39;00m rcParams\u001b[39m.\u001b[39m_get_backend_or_none() \u001b[39m==\u001b[39m name:\n\u001b[0;32m   1143\u001b[0m         \u001b[39m# Nothing to do if the requested backend is already set\u001b[39;00m\n",
      "File \u001b[1;32mc:\\Volume_D\\Programming\\Blimp_git\\.env\\lib\\site-packages\\matplotlib\\rcsetup.py:255\u001b[0m, in \u001b[0;36mvalidate_backend\u001b[1;34m(s)\u001b[0m\n\u001b[0;32m    252\u001b[0m \u001b[39mdef\u001b[39;00m \u001b[39mvalidate_backend\u001b[39m(s):\n\u001b[0;32m    253\u001b[0m     backend \u001b[39m=\u001b[39m (\n\u001b[0;32m    254\u001b[0m         s \u001b[39mif\u001b[39;00m s \u001b[39mis\u001b[39;00m _auto_backend_sentinel \u001b[39mor\u001b[39;00m s\u001b[39m.\u001b[39mstartswith(\u001b[39m\"\u001b[39m\u001b[39mmodule://\u001b[39m\u001b[39m\"\u001b[39m)\n\u001b[1;32m--> 255\u001b[0m         \u001b[39melse\u001b[39;00m _validate_standard_backends(s))\n\u001b[0;32m    256\u001b[0m     \u001b[39mreturn\u001b[39;00m backend\n",
      "File \u001b[1;32mc:\\Volume_D\\Programming\\Blimp_git\\.env\\lib\\site-packages\\matplotlib\\rcsetup.py:82\u001b[0m, in \u001b[0;36mValidateInStrings.__call__\u001b[1;34m(self, s)\u001b[0m\n\u001b[0;32m     77\u001b[0m \u001b[39mif\u001b[39;00m (\u001b[39misinstance\u001b[39m(s, \u001b[39mstr\u001b[39m)\n\u001b[0;32m     78\u001b[0m         \u001b[39mand\u001b[39;00m (s\u001b[39m.\u001b[39mstartswith(\u001b[39m'\u001b[39m\u001b[39m\"\u001b[39m\u001b[39m'\u001b[39m) \u001b[39mand\u001b[39;00m s\u001b[39m.\u001b[39mendswith(\u001b[39m'\u001b[39m\u001b[39m\"\u001b[39m\u001b[39m'\u001b[39m)\n\u001b[0;32m     79\u001b[0m              \u001b[39mor\u001b[39;00m s\u001b[39m.\u001b[39mstartswith(\u001b[39m\"\u001b[39m\u001b[39m'\u001b[39m\u001b[39m\"\u001b[39m) \u001b[39mand\u001b[39;00m s\u001b[39m.\u001b[39mendswith(\u001b[39m\"\u001b[39m\u001b[39m'\u001b[39m\u001b[39m\"\u001b[39m))\n\u001b[0;32m     80\u001b[0m         \u001b[39mand\u001b[39;00m s[\u001b[39m1\u001b[39m:\u001b[39m-\u001b[39m\u001b[39m1\u001b[39m] \u001b[39min\u001b[39;00m \u001b[39mself\u001b[39m\u001b[39m.\u001b[39mvalid):\n\u001b[0;32m     81\u001b[0m     msg \u001b[39m+\u001b[39m\u001b[39m=\u001b[39m \u001b[39m\"\u001b[39m\u001b[39m; remove quotes surrounding your string\u001b[39m\u001b[39m\"\u001b[39m\n\u001b[1;32m---> 82\u001b[0m \u001b[39mraise\u001b[39;00m \u001b[39mValueError\u001b[39;00m(msg)\n",
      "\u001b[1;31mValueError\u001b[0m: 'gtkagg' is not a valid value for backend; supported values are ['GTK3Agg', 'GTK3Cairo', 'GTK4Agg', 'GTK4Cairo', 'MacOSX', 'nbAgg', 'QtAgg', 'QtCairo', 'Qt5Agg', 'Qt5Cairo', 'TkAgg', 'TkCairo', 'WebAgg', 'WX', 'WXAgg', 'WXCairo', 'agg', 'cairo', 'pdf', 'pgf', 'ps', 'svg', 'template']"
     ]
    }
   ],
   "source": [
    "#!/usr/bin/env python\n",
    "\n",
    "import numpy as np\n",
    "import time\n",
    "import matplotlib\n",
    "matplotlib.use('GTKAgg')\n",
    "from matplotlib import pyplot as plt\n",
    "\n",
    "\n",
    "def randomwalk(dims=(256, 256), n=20, sigma=5, alpha=0.95, seed=1):\n",
    "    \"\"\" A simple random walk with memory \"\"\"\n",
    "\n",
    "    r, c = dims\n",
    "    gen = np.random.RandomState(seed)\n",
    "    pos = gen.rand(2, n) * ((r,), (c,))\n",
    "    old_delta = gen.randn(2, n) * sigma\n",
    "\n",
    "    while True:\n",
    "        delta = (1. - alpha) * gen.randn(2, n) * sigma + alpha * old_delta\n",
    "        pos += delta\n",
    "        for ii in xrange(n):\n",
    "            if not (0. <= pos[0, ii] < r):\n",
    "                pos[0, ii] = abs(pos[0, ii] % r)\n",
    "            if not (0. <= pos[1, ii] < c):\n",
    "                pos[1, ii] = abs(pos[1, ii] % c)\n",
    "        old_delta = delta\n",
    "        yield pos\n",
    "\n",
    "\n",
    "def run(niter=1000, doblit=True):\n",
    "    \"\"\"\n",
    "    Display the simulation using matplotlib, optionally using blit for speed\n",
    "    \"\"\"\n",
    "\n",
    "    fig, ax = plt.subplots(1, 1)\n",
    "    ax.set_aspect('equal')\n",
    "    ax.set_xlim(0, 255)\n",
    "    ax.set_ylim(0, 255)\n",
    "    ax.hold(True)\n",
    "    rw = randomwalk()\n",
    "    x, y = rw.next()\n",
    "\n",
    "    plt.show(False)\n",
    "    plt.draw()\n",
    "\n",
    "    if doblit:\n",
    "        # cache the background\n",
    "        background = fig.canvas.copy_from_bbox(ax.bbox)\n",
    "\n",
    "    points = ax.plot(x, y, 'o')[0]\n",
    "    tic = time.time()\n",
    "\n",
    "    for ii in xrange(niter):\n",
    "\n",
    "        # update the xy data\n",
    "        x, y = rw.next()\n",
    "        points.set_data(x, y)\n",
    "\n",
    "        if doblit:\n",
    "            # restore background\n",
    "            fig.canvas.restore_region(background)\n",
    "\n",
    "            # redraw just the points\n",
    "            ax.draw_artist(points)\n",
    "\n",
    "            # fill in the axes rectangle\n",
    "            fig.canvas.blit(ax.bbox)\n",
    "\n",
    "        else:\n",
    "            # redraw everything\n",
    "            fig.canvas.draw()\n",
    "\n",
    "    plt.close(fig)\n",
    "    print (\"Blit = %s, average FPS: %.2f\" % (\n",
    "        str(doblit), niter / (time.time() - tic)))\n",
    "\n",
    "if __name__ == '__main__':\n",
    "    run(doblit=False)\n",
    "    run(doblit=True)"
   ]
  }
 ],
 "metadata": {
  "kernelspec": {
   "display_name": ".env",
   "language": "python",
   "name": "python3"
  },
  "language_info": {
   "codemirror_mode": {
    "name": "ipython",
    "version": 3
   },
   "file_extension": ".py",
   "mimetype": "text/x-python",
   "name": "python",
   "nbconvert_exporter": "python",
   "pygments_lexer": "ipython3",
   "version": "3.10.8"
  },
  "vscode": {
   "interpreter": {
    "hash": "c8b14c77cf746e8ae9b41cbd923066616b6599bd6bd4e372e41750d0cc767203"
   }
  }
 },
 "nbformat": 4,
 "nbformat_minor": 5
}
