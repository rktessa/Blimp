{
 "cells": [
  {
   "cell_type": "code",
   "execution_count": 14,
   "metadata": {},
   "outputs": [
    {
     "name": "stdout",
     "output_type": "stream",
     "text": [
      "[[-6.12323400e-17 -1.22464680e-16 -1.00000000e+00]\n",
      " [ 7.49879891e-33 -1.00000000e+00  1.22464680e-16]\n",
      " [-1.00000000e+00  0.00000000e+00  6.12323400e-17]]\n"
     ]
    }
   ],
   "source": [
    "from blimp_class import kalman_blimp, imu_to_uwb, rotation_UWB, Rx, Ry,Rz\n",
    "import numpy as np\n",
    "import math\n",
    "from numpy.linalg import norm\n",
    "\n",
    "rotz = Rz(np.pi)\n",
    "\n",
    "roty = Ry(np.pi/2)\n",
    "\n",
    "rot = rotz@roty\n",
    "\n",
    "print(rot)\n"
   ]
  },
  {
   "cell_type": "code",
   "execution_count": null,
   "metadata": {},
   "outputs": [],
   "source": []
  }
 ],
 "metadata": {
  "kernelspec": {
   "display_name": ".env",
   "language": "python",
   "name": "python3"
  },
  "language_info": {
   "codemirror_mode": {
    "name": "ipython",
    "version": 3
   },
   "file_extension": ".py",
   "mimetype": "text/x-python",
   "name": "python",
   "nbconvert_exporter": "python",
   "pygments_lexer": "ipython3",
   "version": "3.10.8"
  },
  "orig_nbformat": 4
 },
 "nbformat": 4,
 "nbformat_minor": 2
}
