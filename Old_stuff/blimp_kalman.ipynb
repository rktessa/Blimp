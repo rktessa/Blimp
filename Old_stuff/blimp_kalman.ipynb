{
 "cells": [
  {
   "cell_type": "markdown",
   "metadata": {},
   "source": [
    "Implementazione di un filtro di Kalman"
   ]
  },
  {
   "cell_type": "code",
   "execution_count": 1,
   "metadata": {},
   "outputs": [],
   "source": [
    "%matplotlib inline\n",
    "import numpy as np\n",
    "import matplotlib.pyplot as plt"
   ]
  },
  {
   "cell_type": "code",
   "execution_count": 10,
   "metadata": {},
   "outputs": [],
   "source": [
    "def predict(A, B, Q, u_t, mu_t, Sigma_t):\n",
    "    predicted_mu = A @ mu_t + B @ u_t\n",
    "    predicted_Sigma = A @ Sigma_t @ A.T + Q\n",
    "    return predicted_mu, predicted_Sigma\n",
    "\n",
    "\n",
    "def update(H, R, z, predicted_mu, predicted_Sigma):\n",
    "    residual_mean = z - H @ predicted_mu\n",
    "    residual_covariance = H @ predicted_Sigma @ H.T + R\n",
    "    kalman_gain = predicted_Sigma @ H.T @ np.linalg.inv(residual_covariance)\n",
    "    updated_mu = predicted_mu + kalman_gain @ residual_mean\n",
    "    updated_Sigma = predicted_Sigma - kalman_gain @ H @ predicted_Sigma\n",
    "    return updated_mu, updated_Sigma"
   ]
  },
  {
   "cell_type": "code",
   "execution_count": 15,
   "metadata": {},
   "outputs": [],
   "source": [
    "#Physical constant\n",
    "m = 0.2 # mass of the blimp\n",
    "Fl = 5/1000 * 9.81 #force of 5 grams of l motor \n",
    "Fr = 5/1000 * 9.81 #force of 5 grams of r motor \n",
    "Fu = 5/1000 * 9.81 #force of 5 grams of u motor \n",
    "psi = 0 #measured by the sensor\n",
    "\n",
    "# Initialize the problem with the given information\n",
    "mu_0 = np.array([0, 0, 0])\n",
    "Sigma_0 = np.array([[0.1, 0, 0],\n",
    "                     [0, 0.1, 0],\n",
    "                     [0, 0, 0.1]])\n",
    "\n",
    "\n",
    "num_steps = 100\n",
    "ground_truth_xs = np.linspace(0, 10, num=num_steps + 1) # [0, 1, ..., 10]\n",
    "ground_truth_ys = ground_truth_xs.copy() # x = y\n",
    "ground_truth_zs = ground_truth_xs.copy() # x = y\n",
    "\n",
    "ground_truth_states = np.stack((ground_truth_xs,ground_truth_ys, ground_truth_zs ), axis=1) # ground_truth_states is [[0,0], [1,1], ..., [10,10]]\n",
    "\n",
    "\n",
    "# State = [x_pos, y_pos, z_pos]\n",
    "\n",
    "# Initial position\n",
    "x_0, y_0, z_0 = 0, 0, 0  #given initial position\n",
    "motion_states  = [np.array([x_0, y_0, z_0])] # a list to store state at each step following noisy motion model\n",
    "u_t = np.array([Fl/m, Fr/m, Fu/m]) #input vector depending on force\n",
    "\n",
    "A = np.array([[1, 0, 0],\n",
    "              [0, 1, 0],\n",
    "              [0, 0, 1]])\n",
    "\n",
    "B = np.array([[np.cos(psi), np.cos(psi), 0],\n",
    "               [np.sin(psi), np.sin(psi), 0],\n",
    "               [0, 0, 1] ])\n",
    "\n",
    "Q = np.array([[0.01, 0, 0], #Covariance matrix of state estimation\n",
    "              [0, 0.01, 0], #error\n",
    "              [0, 0, 0.01]])\n",
    "\n",
    "H = np.array([[1, 0, 0],  #Measure of the Sensors:\n",
    "              [0, 1, 0],  # UWB + Ultrasonic\n",
    "              [0, 0, 1]])\n",
    "\n",
    "R = np.array([[0.75, 0, 0], #Error of the sensors\n",
    "              [0, 0.75, 0],\n",
    "              [0, 0, 1]])\n",
    "\n",
    "\n",
    " # Initialize empty lists to store the filtered states and measurements for plotting\n",
    "measurement_states = []\n",
    "filtered_states = [] \n",
    "\n",
    "# Run KF for each time step\n",
    "mu_current = mu_0.copy()\n",
    "Sigma_current = Sigma_0.copy()\n",
    "i = 0\n",
    "while i< 100: \n",
    "    # Predict step\n",
    "    predicted_mu, predicted_Sigma = predict(A, B, Q, u_t, mu_current, Sigma_current)\n",
    "    \n",
    "    # Get measurement (in real life, we get this from our sensor)    \n",
    "    measurement_noise = np.random.multivariate_normal(mean=np.array([0,0,0]), cov=R) # ~N(0,R)\n",
    "    new_measurement = H @ ground_truth_states[i+1] + measurement_noise # this is z_t\n",
    "    \n",
    "    # The rest of update step\n",
    "    mu_current, Sigma_current = update(H, R, new_measurement, predicted_mu, predicted_Sigma)\n",
    "    \n",
    "    # Store measurements and mu_current so we can plot it later\n",
    "    measurement_states.append(new_measurement)\n",
    "    filtered_states.append(mu_current)\n",
    "    i += 1\n",
    "\n",
    "\n",
    "\n",
    "    \n",
    "\n"
   ]
  }
 ],
 "metadata": {
  "kernelspec": {
   "display_name": ".env",
   "language": "python",
   "name": "python3"
  },
  "language_info": {
   "codemirror_mode": {
    "name": "ipython",
    "version": 3
   },
   "file_extension": ".py",
   "mimetype": "text/x-python",
   "name": "python",
   "nbconvert_exporter": "python",
   "pygments_lexer": "ipython3",
   "version": "3.10.8 (tags/v3.10.8:aaaf517, Oct 11 2022, 16:50:30) [MSC v.1933 64 bit (AMD64)]"
  },
  "orig_nbformat": 4,
  "vscode": {
   "interpreter": {
    "hash": "c8b14c77cf746e8ae9b41cbd923066616b6599bd6bd4e372e41750d0cc767203"
   }
  }
 },
 "nbformat": 4,
 "nbformat_minor": 2
}
