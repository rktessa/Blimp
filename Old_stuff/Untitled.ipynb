{
 "cells": [
  {
   "cell_type": "code",
   "execution_count": 11,
   "metadata": {},
   "outputs": [
    {
     "name": "stdout",
     "output_type": "stream",
     "text": [
      "[[1 2 3]\n",
      " [1 2 3]]\n",
      "[1 1]\n"
     ]
    }
   ],
   "source": [
    "import numpy as np\n",
    "\n",
    "x = np.array([1,2,3])\n",
    "y = np.array([4,5, 6])\n",
    "\n",
    "pippo = np.stack((x,x))\n",
    "print(pippo)\n",
    "print(pippo[:,0]) #tutta la prima colonna chiamo così\n"
   ]
  },
  {
   "cell_type": "code",
   "execution_count": 3,
   "id": "436d7511",
   "metadata": {},
   "outputs": [
    {
     "data": {
      "text/plain": [
       "1.4142135623730951"
      ]
     },
     "execution_count": 3,
     "metadata": {},
     "output_type": "execute_result"
    }
   ],
   "source": [
    "import numpy as np\n",
    "import math\n",
    "\n",
    "dist_target = np.array([1.0, 1.0]) #array of coordinates x,y  m\n",
    "pos_x = 0.\n",
    "pos_y = 0.\n",
    "\n",
    "dist = math.sqrt((pos_x-dist_target[0])**2 + (pos_y - dist_target[1])**2)\n",
    "dist"
   ]
  },
  {
   "cell_type": "code",
   "execution_count": 5,
   "id": "509f3b71",
   "metadata": {},
   "outputs": [
    {
     "name": "stdout",
     "output_type": "stream",
     "text": [
      "5\n"
     ]
    }
   ],
   "source": [
    "import numpy as np\n",
    "traj = np.array([[0, 0, 1],\n",
    "                 [1, 1, 1],\n",
    "                 [2, 2, 2]])\n",
    "\n",
    "print(traj[0][2])"
   ]
  },
  {
   "cell_type": "code",
   "execution_count": null,
   "id": "78bdf60e",
   "metadata": {},
   "outputs": [],
   "source": []
  }
 ],
 "metadata": {
  "kernelspec": {
   "display_name": ".env",
   "language": "python",
   "name": "python3"
  },
  "language_info": {
   "codemirror_mode": {
    "name": "ipython",
    "version": 3
   },
   "file_extension": ".py",
   "mimetype": "text/x-python",
   "name": "python",
   "nbconvert_exporter": "python",
   "pygments_lexer": "ipython3",
   "version": "3.10.8"
  },
  "vscode": {
   "interpreter": {
    "hash": "c8b14c77cf746e8ae9b41cbd923066616b6599bd6bd4e372e41750d0cc767203"
   }
  }
 },
 "nbformat": 4,
 "nbformat_minor": 5
}
