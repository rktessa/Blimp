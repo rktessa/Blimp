{
 "cells": [
  {
   "cell_type": "code",
   "execution_count": 617,
   "metadata": {},
   "outputs": [
    {
     "name": "stdout",
     "output_type": "stream",
     "text": [
      "[[1 2 3]\n",
      " [1 2 3]]\n",
      "[1 1]\n"
     ]
    }
   ],
   "source": [
    "import numpy as np\n",
    "\n",
    "x = np.array([1,2,3])\n",
    "y = np.array([4,5, 6])\n",
    "\n",
    "pippo = np.stack((x,x))\n",
    "print(pippo)\n",
    "print(pippo[:,0]) #tutta la prima colonna chiamo così\n"
   ]
  },
  {
   "cell_type": "code",
   "execution_count": 618,
   "id": "436d7511",
   "metadata": {},
   "outputs": [
    {
     "data": {
      "text/plain": [
       "1.4142135623730951"
      ]
     },
     "execution_count": 618,
     "metadata": {},
     "output_type": "execute_result"
    }
   ],
   "source": [
    "import numpy as np\n",
    "import math\n",
    "\n",
    "dist_target = np.array([1.0, 1.0]) #array of coordinates x,y  m\n",
    "pos_x = 0.\n",
    "pos_y = 0.\n",
    "\n",
    "dist = math.sqrt((pos_x-dist_target[0])**2 + (pos_y - dist_target[1])**2)\n",
    "dist"
   ]
  },
  {
   "cell_type": "code",
   "execution_count": 619,
   "id": "509f3b71",
   "metadata": {},
   "outputs": [
    {
     "name": "stdout",
     "output_type": "stream",
     "text": [
      "1\n"
     ]
    }
   ],
   "source": [
    "import numpy as np\n",
    "traj = np.array([[0, 0, 1],\n",
    "                 [1, 1, 1],\n",
    "                 [2, 2, 2]])\n",
    "\n",
    "print(traj[0][2])"
   ]
  },
  {
   "cell_type": "code",
   "execution_count": 620,
   "id": "78bdf60e",
   "metadata": {},
   "outputs": [
    {
     "name": "stdout",
     "output_type": "stream",
     "text": [
      "x =  17\n"
     ]
    },
    {
     "data": {
      "image/png": "[encoded data removed]",
      "text/plain": [
       "<Figure size 640x480 with 1 Axes>"
      ]
     },
     "metadata": {},
     "output_type": "display_data"
    }
   ],
   "source": [
    "import numpy as np\n",
    "import matplotlib.pyplot as plt\n",
    "\n",
    "x = np.array([0., 0.5, 1., 1.5, 2., 2.5, 3., 3.5, 4., 4.5, 5., 5.5, 6., 6.5, 7., 7.5, 8.  ])\n",
    "z = np.random.normal(0, 0.1, size=(len(x)))\n",
    "z_2 = np.random.normal(0, 0.5, size=(len(x)))\n",
    "x = x + z\n",
    "y = -2*x + 3 + z_2\n",
    "\n",
    "print('x = ', len(x))\n",
    "\n",
    "# Ora usando i dati creati vado a fare una LLS estimation\n",
    "\n",
    "# y = a +b*x\n",
    "a = (np.sum(y) * np.sum(x**2)- np.sum(x)*np.sum(x*y))/ (len(x)*np.sum(x**2) - np.sum(x)**2)\n",
    "b = ( len(x)* np.sum(x*y) - np.sum(x)*np.sum(y)) /(len(x)*np.sum(x**2)- np.sum(x)**2) \n",
    "\n",
    "y_fit = a + b*x\n",
    "\n",
    "\n",
    "\n",
    "\n",
    "# Plot di tutto :)\n",
    "fig, ax = plt.subplots()\n",
    "\n",
    "ax.scatter(x,y)\n",
    "ax.plot(x, y_fit, 'r')\n",
    "ax.set(xlabel='x (m)', ylabel='y (m)',\n",
    "       title='Linear Least Square estimation ')\n",
    "ax.grid()\n",
    "\n",
    "plt.show()"
   ]
  },
  {
   "cell_type": "code",
   "execution_count": 621,
   "id": "439a8b5f",
   "metadata": {},
   "outputs": [
    {
     "name": "stdout",
     "output_type": "stream",
     "text": [
      "Standard Error =  0.43249985871958213\n"
     ]
    }
   ],
   "source": [
    "import math\n",
    "# Error and Covariance calculation\n",
    "# Because of estimation the variance of the residual \n",
    "# is defined using n-2 dofs\n",
    "E_i = np.sum((y - y_fit)**2)\n",
    "Serr = math.sqrt(E_i/(len(x)-2))\n",
    "print(\"Standard Error = \", Serr)"
   ]
  },
  {
   "cell_type": "code",
   "execution_count": 622,
   "id": "50911b0a",
   "metadata": {},
   "outputs": [
    {
     "name": "stdout",
     "output_type": "stream",
     "text": [
      "angolo inclinazione =  296.8814929489199\n"
     ]
    }
   ],
   "source": [
    "# Inclination of the line calculated.\n",
    "# m coefficient is b\n",
    "ang_rad = np.arctan(b)\n",
    "ang_deg = ang_rad * 180/np.pi\n",
    "\n",
    "if ang_deg < 0:  #Ho dei dubbi che questo faccia solo danni nel pid \n",
    "    ang_deg += 360\n",
    "\n",
    "print(\"angolo inclinazione = \", ang_deg)"
   ]
  },
  {
   "cell_type": "code",
   "execution_count": 623,
   "id": "dd9115ff",
   "metadata": {},
   "outputs": [
    {
     "name": "stdout",
     "output_type": "stream",
     "text": [
      "(array([-0.16252239,  0.36388715,  1.00535659,  1.47554196,  2.12855253,\n",
      "        2.49717558,  2.98448994,  3.57712361,  3.90891878,  4.59994096,\n",
      "        5.18358371,  5.53182412,  6.0751001 ,  6.75014016,  6.96140993,\n",
      "        7.54030665,  8.02167478]), array([  2.53797335,   1.33644945,   0.7226392 ,   0.12888444,\n",
      "        -1.03932944,  -1.90514675,  -2.79785927,  -3.82092674,\n",
      "        -4.26605202,  -6.28968998,  -7.21697123,  -7.938474  ,\n",
      "        -8.70871724, -11.06365708, -10.92261774, -12.43363156,\n",
      "       -13.52389225]))\n"
     ]
    }
   ],
   "source": [
    "pos = x,y\n",
    "print(pos)"
   ]
  },
  {
   "cell_type": "code",
   "execution_count": 624,
   "id": "c63854bd",
   "metadata": {},
   "outputs": [
    {
     "name": "stdout",
     "output_type": "stream",
     "text": [
      "[-0.16252239  0.36388715  1.00535659  1.47554196  2.12855253  2.49717558\n",
      "  2.98448994  3.57712361  3.90891878  4.59994096  5.18358371  5.53182412\n",
      "  6.0751001   6.75014016  6.96140993  7.54030665  8.02167478]\n"
     ]
    }
   ],
   "source": [
    "xx = pos[0][:]\n",
    "\n",
    "print(xx)"
   ]
  },
  {
   "cell_type": "code",
   "execution_count": 625,
   "id": "dbbe68bb",
   "metadata": {},
   "outputs": [
    {
     "name": "stdout",
     "output_type": "stream",
     "text": [
      "Ford\n"
     ]
    }
   ],
   "source": [
    "thisdict =\t{\n",
    "  \"brand\": \"Ford\",\n",
    "  \"model\": \"Mustang\",\n",
    "  \"year\": 1964\n",
    "}\n",
    "print(thisdict[\"brand\"])"
   ]
  },
  {
   "cell_type": "code",
   "execution_count": 626,
   "id": "515d4f0a",
   "metadata": {},
   "outputs": [
    {
     "name": "stdout",
     "output_type": "stream",
     "text": [
      "{'brand': 'Ford', 'model': 'Mustang', 'year': 2020}\n"
     ]
    }
   ],
   "source": [
    "thisdict =\t{\n",
    "  \"brand\": \"Ford\",\n",
    "  \"model\": \"Mustang\",\n",
    "  \"year\": 1964,\n",
    "  \"year\": 2020\n",
    "}\n",
    "print(thisdict) "
   ]
  },
  {
   "cell_type": "code",
   "execution_count": 627,
   "id": "472e076a",
   "metadata": {},
   "outputs": [
    {
     "name": "stdout",
     "output_type": "stream",
     "text": [
      "{(1, 2): 0}\n"
     ]
    }
   ],
   "source": [
    "start = (1,2) #posizione\n",
    "h = {}\n",
    "h[start] = 0  #distanza\n",
    "print(h)"
   ]
  },
  {
   "cell_type": "code",
   "execution_count": 628,
   "id": "6d3f1d44",
   "metadata": {},
   "outputs": [],
   "source": [
    "import numpy as  np\n",
    "import cv2 \n",
    "img = cv2.flip(cv2.imread('C:\\Volume_D\\Programming\\Blimp_git\\Blimp\\povo2_provaPathPlanning.png'), 0)\n",
    "#img = cv2.flip(cv2.imread(\"C:\\Volume_D\\Programming\\Blimp_git\\Blimp\\kirby_work.png\"), 0)\n",
    "#img = cv2.flip(cv2.imread(\"C:\\Volume_D\\Programming\\Path Planning Codes\\Robotic-Navigation\\lab2\\program\\Maps\\map2.png\"), 0)\n",
    "img[img > 128] = 255\n",
    "img[img <= 128] = 0"
   ]
  },
  {
   "cell_type": "code",
   "execution_count": 629,
   "id": "8d7700bb",
   "metadata": {},
   "outputs": [],
   "source": [
    "#Saving the output in a txt file. \n",
    "with open(\"example.txt\", \"w\") as f:\n",
    "    f.write(np.array_str(img)) # inside conversion of array into string\n"
   ]
  },
  {
   "cell_type": "code",
   "execution_count": 630,
   "id": "188c2a41",
   "metadata": {},
   "outputs": [
    {
     "data": {
      "text/plain": [
       "array([[[0., 0., 0.],\n",
       "        [0., 0., 0.],\n",
       "        [0., 0., 0.],\n",
       "        ...,\n",
       "        [0., 0., 0.],\n",
       "        [0., 0., 0.],\n",
       "        [0., 0., 0.]],\n",
       "\n",
       "       [[0., 0., 0.],\n",
       "        [0., 0., 0.],\n",
       "        [0., 0., 0.],\n",
       "        ...,\n",
       "        [0., 0., 0.],\n",
       "        [0., 0., 0.],\n",
       "        [0., 0., 0.]],\n",
       "\n",
       "       [[0., 0., 0.],\n",
       "        [0., 0., 0.],\n",
       "        [0., 0., 0.],\n",
       "        ...,\n",
       "        [0., 0., 0.],\n",
       "        [0., 0., 0.],\n",
       "        [0., 0., 0.]],\n",
       "\n",
       "       ...,\n",
       "\n",
       "       [[0., 0., 0.],\n",
       "        [0., 0., 0.],\n",
       "        [0., 0., 0.],\n",
       "        ...,\n",
       "        [0., 0., 0.],\n",
       "        [0., 0., 0.],\n",
       "        [0., 0., 0.]],\n",
       "\n",
       "       [[1., 1., 1.],\n",
       "        [0., 0., 0.],\n",
       "        [0., 0., 0.],\n",
       "        ...,\n",
       "        [0., 0., 0.],\n",
       "        [0., 0., 0.],\n",
       "        [0., 0., 0.]],\n",
       "\n",
       "       [[1., 1., 1.],\n",
       "        [1., 1., 1.],\n",
       "        [0., 0., 0.],\n",
       "        ...,\n",
       "        [0., 0., 0.],\n",
       "        [0., 0., 0.],\n",
       "        [0., 0., 0.]]])"
      ]
     },
     "execution_count": 630,
     "metadata": {},
     "output_type": "execute_result"
    }
   ],
   "source": [
    "m = np.asarray(img) # convert into numpy array the input\n",
    "m = cv2.cvtColor(m, cv2.COLOR_BGR2GRAY) \n",
    "m = m.astype(float) / 255. # copy of the array m cast an float\n",
    "m = 1-cv2.dilate(1-m, np.ones((20, 20)))\n",
    "img = img.astype(float)/255.\n",
    "\n",
    "start = (200, 50)\n",
    "goal = (80, 450)\n",
    "\n",
    "cv2.circle(img, (start[0], start[1]), 5, (0, 0, 1), 3)\n",
    "cv2.circle(img, (goal[0], goal[1]), 5, (0, 1, 0), 3)\n"
   ]
  },
  {
   "cell_type": "code",
   "execution_count": 631,
   "id": "f4a10b49",
   "metadata": {},
   "outputs": [
    {
     "data": {
      "text/plain": [
       "\"import cv2\\n  \\nimage = cv2.imread('C:\\\\Volume_D\\\\Programming\\\\Blimp_git\\\\Blimp\\\\kirby_work.png')\\ngray = cv2.cvtColor(image, cv2.COLOR_BGR2GRAY)\\n  \\ncv2.imshow('Original image',image)\\ncv2.imshow('Gray image', gray)\\n  \\ncv2.waitKey(0)\\ncv2.destroyAllWindows()\""
      ]
     },
     "execution_count": 631,
     "metadata": {},
     "output_type": "execute_result"
    }
   ],
   "source": [
    "'''import cv2\n",
    "  \n",
    "image = cv2.imread('C:\\Volume_D\\Programming\\Blimp_git\\Blimp\\kirby_work.png')\n",
    "gray = cv2.cvtColor(image, cv2.COLOR_BGR2GRAY)\n",
    "  \n",
    "cv2.imshow('Original image',image)\n",
    "cv2.imshow('Gray image', gray)\n",
    "  \n",
    "cv2.waitKey(0)\n",
    "cv2.destroyAllWindows()'''"
   ]
  },
  {
   "cell_type": "code",
   "execution_count": 632,
   "id": "bd225284",
   "metadata": {},
   "outputs": [],
   "source": [
    "img_ = cv2.flip(img, 0)\n",
    "cv2.imshow(\"A* Test\", img_)\n",
    "cv2.waitKey(0)\n",
    "cv2.destroyAllWindows()"
   ]
  },
  {
   "cell_type": "code",
   "execution_count": 5,
   "id": "b4f962f6",
   "metadata": {},
   "outputs": [
    {
     "name": "stdout",
     "output_type": "stream",
     "text": [
      "distanza tra due punti = 1.4142135623730951\n"
     ]
    }
   ],
   "source": [
    "import numpy as np\n",
    "import math\n",
    "a = (0,0)\n",
    "b = (1,1)\n",
    "def distance(a, b):\n",
    "        # Diagonal distance \n",
    "        dMax = np.max([np.abs(a[0]-b[0]), np.abs(a[1]-b[1])])\n",
    "        dMin = np.min([np.abs(a[0]-b[0]), np.abs(a[1]-b[1])])\n",
    "        d = math.sqrt(2.) * dMin + (dMax - dMin)\n",
    "        return d\n",
    "\n",
    "pippo = distance(a,b)\n",
    "print(\"distanza tra due punti =\", pippo)"
   ]
  },
  {
   "cell_type": "code",
   "execution_count": 8,
   "id": "caa224c4",
   "metadata": {},
   "outputs": [
    {
     "name": "stdout",
     "output_type": "stream",
     "text": [
      "Original dictionary :  {'p': 2, 3: 4, 4: 3, 2: 1, 0: 0}\n",
      "Dictionary in ascending order by value :  [(0, 0), (2, 1), ('p', 2), (4, 3), (3, 4)]\n",
      "Dictionary in descending order by value :  {3: 4, 4: 3, 'p': 2, 2: 1, 0: 0}\n"
     ]
    }
   ],
   "source": [
    "import operator\n",
    "d = {'p': 2, 3: 4, 4: 3, 2: 1, 0: 0}\n",
    "print('Original dictionary : ',d)\n",
    "sorted_d = sorted(d.items(), key=operator.itemgetter(1))\n",
    "print('Dictionary in ascending order by value : ',sorted_d)\n",
    "sorted_d = dict( sorted(d.items(), key=operator.itemgetter(1),reverse=True))\n",
    "print('Dictionary in descending order by value : ',sorted_d)\n"
   ]
  },
  {
   "cell_type": "code",
   "execution_count": 14,
   "id": "b98dec70",
   "metadata": {},
   "outputs": [
    {
     "name": "stdout",
     "output_type": "stream",
     "text": [
      "[0. 1. 0. 1. 0. 1. 0. 1. 0. 1.]\n",
      "10\n",
      "5.0\n"
     ]
    }
   ],
   "source": [
    "import numpy as np\n",
    "positions = []\n",
    "i = 0\n",
    "while i < 5: \n",
    "    positions = np.append(positions, [0,1])\n",
    "    i +=1\n",
    "\n",
    "print(positions)\n",
    "print(len(positions))\n",
    "print(np.sum(positions**2))"
   ]
  },
  {
   "cell_type": "code",
   "execution_count": null,
   "id": "8a83b07f",
   "metadata": {},
   "outputs": [],
   "source": []
  }
 ],
 "metadata": {
  "kernelspec": {
   "display_name": ".env",
   "language": "python",
   "name": "python3"
  },
  "language_info": {
   "codemirror_mode": {
    "name": "ipython",
    "version": 3
   },
   "file_extension": ".py",
   "mimetype": "text/x-python",
   "name": "python",
   "nbconvert_exporter": "python",
   "pygments_lexer": "ipython3",
   "version": "3.10.8"
  },
  "vscode": {
   "interpreter": {
    "hash": "c8b14c77cf746e8ae9b41cbd923066616b6599bd6bd4e372e41750d0cc767203"
   }
  }
 },
 "nbformat": 4,
 "nbformat_minor": 5
}
